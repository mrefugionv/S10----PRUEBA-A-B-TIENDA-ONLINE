{
  "cells": [
    {
      "cell_type": "markdown",
      "metadata": {
        "id": "view-in-github",
        "colab_type": "text"
      },
      "source": [
        "<a href=\"https://colab.research.google.com/github/mrefugionv/S10----PRUEBA-A-B-TIENDA-ONLINE/blob/main/P10_TOMA_DECISIONES_PRUEBA_AB.ipynb\" target=\"_parent\"><img src=\"https://colab.research.google.com/assets/colab-badge.svg\" alt=\"Open In Colab\"/></a>"
      ]
    },
    {
      "cell_type": "markdown",
      "metadata": {
        "id": "5rlK6V0FBpY8"
      },
      "source": [
        "# PROYECTO SPRINT 10 : TOMAR DESCISIONES DE NEGOCIO BASADAS EN DATOS"
      ]
    },
    {
      "cell_type": "markdown",
      "metadata": {
        "id": "2XKkUYqsBpY8"
      },
      "source": [
        "## DESCRIPCIÓN DEL PROYECTO\n",
        "\n",
        "Eres analista en una gran tienda online. Junto con el departamento de marketing has recopilado una lista de hipótesis que pueden ayudar a aumentar los ingresos.\n",
        "\n",
        "Tienes que priorizar estas hipótesis, lanzar un test A/B y analizar los resultados."
      ]
    },
    {
      "cell_type": "markdown",
      "metadata": {
        "id": "JwVAqPMOBpY9"
      },
      "source": [
        "## PREPARACIÓN DE LOS DATOS"
      ]
    },
    {
      "cell_type": "markdown",
      "metadata": {
        "id": "dZSUrt4eBpY9"
      },
      "source": [
        "Se importan librerías que se necesitarán."
      ]
    },
    {
      "cell_type": "code",
      "execution_count": null,
      "metadata": {
        "id": "WAj6ROlBBpY9"
      },
      "outputs": [],
      "source": [
        "import pandas as pd            # Manejo de dataframes\n",
        "import datetime as dt          # Manejo de fechas\n",
        "import matplotlib.pyplot as plt  # Graficar\n",
        "import numpy as np              # Matrices\n",
        "import seaborn as sns              # Gráfico caja- bigotes\n",
        "import scipy.stats as stats         # Métodos estadísticos"
      ]
    },
    {
      "cell_type": "markdown",
      "metadata": {
        "id": "yTjcYRoyBpY-"
      },
      "source": [
        "Se leen las bases de datos."
      ]
    },
    {
      "cell_type": "code",
      "execution_count": null,
      "metadata": {
        "id": "XaqnDjraBpY-"
      },
      "outputs": [],
      "source": [
        "# Metricas RICE sobre diversas hipótesis\n",
        "hypotheses = pd.read_csv('/datasets/hypotheses_us.csv', sep=';')\n",
        "# Resultados de la prueba A/B, ordenes.\n",
        "orders = pd.read_csv('/datasets/orders_us.csv')\n",
        "#Resultados de la prueba A/B, visitas.\n",
        "visits = pd.read_csv('/datasets/visits_us.csv')"
      ]
    },
    {
      "cell_type": "markdown",
      "metadata": {
        "id": "fCt-PnJFBpY-"
      },
      "source": [
        "Función para correción de nombres de columnas, que esten en formaton snake_case."
      ]
    },
    {
      "cell_type": "code",
      "execution_count": null,
      "metadata": {
        "id": "dXTbatDWBpY-"
      },
      "outputs": [],
      "source": [
        "def col_name_snakecase(data):\n",
        "    new_col_names =[]\n",
        "\n",
        "    for old_name in data.columns:\n",
        "        name_stripped = old_name.strip()\n",
        "        name_lowered = name_stripped.lower()\n",
        "        name_no_spaces = name_lowered.replace(' ','_')\n",
        "        new_col_names.append(name_no_spaces)\n",
        "\n",
        "    data.columns = new_col_names\n",
        "    return(data)\n",
        "\n",
        "hypotheses = col_name_snakecase(hypotheses)"
      ]
    },
    {
      "cell_type": "code",
      "execution_count": null,
      "metadata": {
        "id": "pI3jrji8BpY_",
        "outputId": "a907f091-1b65-43c0-b757-94e9327eb05d"
      },
      "outputs": [
        {
          "name": "stdout",
          "output_type": "stream",
          "text": [
            "<class 'pandas.core.frame.DataFrame'>\n",
            "RangeIndex: 9 entries, 0 to 8\n",
            "Data columns (total 5 columns):\n",
            " #   Column      Non-Null Count  Dtype \n",
            "---  ------      --------------  ----- \n",
            " 0   hypothesis  9 non-null      object\n",
            " 1   reach       9 non-null      int64 \n",
            " 2   impact      9 non-null      int64 \n",
            " 3   confidence  9 non-null      int64 \n",
            " 4   effort      9 non-null      int64 \n",
            "dtypes: int64(4), object(1)\n",
            "memory usage: 488.0+ bytes\n",
            "None\n"
          ]
        },
        {
          "data": {
            "text/html": [
              "<div>\n",
              "<style scoped>\n",
              "    .dataframe tbody tr th:only-of-type {\n",
              "        vertical-align: middle;\n",
              "    }\n",
              "\n",
              "    .dataframe tbody tr th {\n",
              "        vertical-align: top;\n",
              "    }\n",
              "\n",
              "    .dataframe thead th {\n",
              "        text-align: right;\n",
              "    }\n",
              "</style>\n",
              "<table border=\"1\" class=\"dataframe\">\n",
              "  <thead>\n",
              "    <tr style=\"text-align: right;\">\n",
              "      <th></th>\n",
              "      <th>hypothesis</th>\n",
              "      <th>reach</th>\n",
              "      <th>impact</th>\n",
              "      <th>confidence</th>\n",
              "      <th>effort</th>\n",
              "    </tr>\n",
              "  </thead>\n",
              "  <tbody>\n",
              "    <tr>\n",
              "      <th>0</th>\n",
              "      <td>Add two new channels for attracting traffic. T...</td>\n",
              "      <td>3</td>\n",
              "      <td>10</td>\n",
              "      <td>8</td>\n",
              "      <td>6</td>\n",
              "    </tr>\n",
              "    <tr>\n",
              "      <th>1</th>\n",
              "      <td>Launch your own delivery service. This will sh...</td>\n",
              "      <td>2</td>\n",
              "      <td>5</td>\n",
              "      <td>4</td>\n",
              "      <td>10</td>\n",
              "    </tr>\n",
              "    <tr>\n",
              "      <th>2</th>\n",
              "      <td>Add product recommendation blocks to the store...</td>\n",
              "      <td>8</td>\n",
              "      <td>3</td>\n",
              "      <td>7</td>\n",
              "      <td>3</td>\n",
              "    </tr>\n",
              "    <tr>\n",
              "      <th>3</th>\n",
              "      <td>Change the category structure. This will incre...</td>\n",
              "      <td>8</td>\n",
              "      <td>3</td>\n",
              "      <td>3</td>\n",
              "      <td>8</td>\n",
              "    </tr>\n",
              "    <tr>\n",
              "      <th>4</th>\n",
              "      <td>Change the background color on the main page. ...</td>\n",
              "      <td>3</td>\n",
              "      <td>1</td>\n",
              "      <td>1</td>\n",
              "      <td>1</td>\n",
              "    </tr>\n",
              "  </tbody>\n",
              "</table>\n",
              "</div>"
            ],
            "text/plain": [
              "                                          hypothesis  reach  impact  \\\n",
              "0  Add two new channels for attracting traffic. T...      3      10   \n",
              "1  Launch your own delivery service. This will sh...      2       5   \n",
              "2  Add product recommendation blocks to the store...      8       3   \n",
              "3  Change the category structure. This will incre...      8       3   \n",
              "4  Change the background color on the main page. ...      3       1   \n",
              "\n",
              "   confidence  effort  \n",
              "0           8       6  \n",
              "1           4      10  \n",
              "2           7       3  \n",
              "3           3       8  \n",
              "4           1       1  "
            ]
          },
          "metadata": {},
          "output_type": "display_data"
        }
      ],
      "source": [
        "print(hypotheses.info())\n",
        "display(hypotheses.head())"
      ]
    },
    {
      "cell_type": "markdown",
      "metadata": {
        "id": "mHiPjCIJBpZA"
      },
      "source": [
        "Se revisa la base de datos \"orders\":\n",
        "* Los nombres de las columnas 'transactionId' y 'visitorId' no estaban en snakecase por lo que se les asigna su nombre correctamente.\n",
        "* Los identificadores ('transactionId', visitorId') estaban en tipo de dato entero. Se pasan a string, ya que no se suelen hacer operaciones matemáticas con ellos.\n",
        "* La fecha se leyo en tipo de dato string, se asegura que se lea como tipo de dato 'datetime'.\n",
        "\n",
        "De esta manera obtenemos las base de datos de 1197 filas lista para trabajar, con las siguientes características:\n",
        "* transaction_id - string - identificador pedido - sin valores faltantes.\n",
        "* visitor_id - string - identificador de usuario que realizó el pedido - sin valores faltantes.\n",
        "* date - datetime - fecha de pedido - sin valores faltantes.\n",
        "* revenue - flotante - ingresos del pedido - sin valores faltantes.\n",
        "* group - objeto - grupo del test A/B al que pertenece el usuario - sin valores faltantes.\n"
      ]
    },
    {
      "cell_type": "code",
      "execution_count": null,
      "metadata": {
        "id": "vSJE884vBpZA",
        "outputId": "e6e6197f-7c86-4bea-dce7-d44bf1be94c9"
      },
      "outputs": [
        {
          "name": "stdout",
          "output_type": "stream",
          "text": [
            "<class 'pandas.core.frame.DataFrame'>\n",
            "RangeIndex: 1197 entries, 0 to 1196\n",
            "Data columns (total 5 columns):\n",
            " #   Column          Non-Null Count  Dtype         \n",
            "---  ------          --------------  -----         \n",
            " 0   transaction_id  1197 non-null   string        \n",
            " 1   visitor_id      1197 non-null   string        \n",
            " 2   date            1197 non-null   datetime64[ns]\n",
            " 3   revenue         1197 non-null   float64       \n",
            " 4   group           1197 non-null   object        \n",
            "dtypes: datetime64[ns](1), float64(1), object(1), string(2)\n",
            "memory usage: 46.9+ KB\n",
            "None\n"
          ]
        },
        {
          "data": {
            "text/html": [
              "<div>\n",
              "<style scoped>\n",
              "    .dataframe tbody tr th:only-of-type {\n",
              "        vertical-align: middle;\n",
              "    }\n",
              "\n",
              "    .dataframe tbody tr th {\n",
              "        vertical-align: top;\n",
              "    }\n",
              "\n",
              "    .dataframe thead th {\n",
              "        text-align: right;\n",
              "    }\n",
              "</style>\n",
              "<table border=\"1\" class=\"dataframe\">\n",
              "  <thead>\n",
              "    <tr style=\"text-align: right;\">\n",
              "      <th></th>\n",
              "      <th>transaction_id</th>\n",
              "      <th>visitor_id</th>\n",
              "      <th>date</th>\n",
              "      <th>revenue</th>\n",
              "      <th>group</th>\n",
              "    </tr>\n",
              "  </thead>\n",
              "  <tbody>\n",
              "    <tr>\n",
              "      <th>0</th>\n",
              "      <td>3667963787</td>\n",
              "      <td>3312258926</td>\n",
              "      <td>2019-08-15</td>\n",
              "      <td>30.4</td>\n",
              "      <td>B</td>\n",
              "    </tr>\n",
              "    <tr>\n",
              "      <th>1</th>\n",
              "      <td>2804400009</td>\n",
              "      <td>3642806036</td>\n",
              "      <td>2019-08-15</td>\n",
              "      <td>15.2</td>\n",
              "      <td>B</td>\n",
              "    </tr>\n",
              "    <tr>\n",
              "      <th>2</th>\n",
              "      <td>2961555356</td>\n",
              "      <td>4069496402</td>\n",
              "      <td>2019-08-15</td>\n",
              "      <td>10.2</td>\n",
              "      <td>A</td>\n",
              "    </tr>\n",
              "    <tr>\n",
              "      <th>3</th>\n",
              "      <td>3797467345</td>\n",
              "      <td>1196621759</td>\n",
              "      <td>2019-08-15</td>\n",
              "      <td>155.1</td>\n",
              "      <td>B</td>\n",
              "    </tr>\n",
              "    <tr>\n",
              "      <th>4</th>\n",
              "      <td>2282983706</td>\n",
              "      <td>2322279887</td>\n",
              "      <td>2019-08-15</td>\n",
              "      <td>40.5</td>\n",
              "      <td>B</td>\n",
              "    </tr>\n",
              "  </tbody>\n",
              "</table>\n",
              "</div>"
            ],
            "text/plain": [
              "  transaction_id  visitor_id       date  revenue group\n",
              "0     3667963787  3312258926 2019-08-15     30.4     B\n",
              "1     2804400009  3642806036 2019-08-15     15.2     B\n",
              "2     2961555356  4069496402 2019-08-15     10.2     A\n",
              "3     3797467345  1196621759 2019-08-15    155.1     B\n",
              "4     2282983706  2322279887 2019-08-15     40.5     B"
            ]
          },
          "metadata": {},
          "output_type": "display_data"
        }
      ],
      "source": [
        "orders.columns = ['transaction_id','visitor_id','date','revenue','group']\n",
        "orders['transaction_id'] = orders['transaction_id'].astype('string')\n",
        "orders['visitor_id'] = orders['visitor_id'].astype('string')\n",
        "orders['date'] = orders['date'].map( lambda x: dt.datetime.strptime(x, '%Y-%m-%d'))\n",
        "print(orders.info())\n",
        "display(orders.head())"
      ]
    },
    {
      "cell_type": "markdown",
      "metadata": {
        "id": "QFgfAlq8BpZA"
      },
      "source": [
        "Se revisa la base de datos \"visits\":\n",
        "\n",
        "* La fecha se leyo en tipo de dato string, se asegura que se lea como tipo de dato 'datetime'.\n",
        "\n",
        "De esta manera obtenemos las base de datos de 62 filas lista para trabajar, con las siguientes características:\n",
        "* date - datetime - fecha de visita - sin valores faltantes.\n",
        "* group - objeto - grupo del test A/B al que pertenece el usuario - sin valores\n",
        "* visits - entero - número de visitas en la fecha especificada en el grupo de pruebas A/B especificado."
      ]
    },
    {
      "cell_type": "code",
      "execution_count": null,
      "metadata": {
        "id": "DBGbBKmtBpZA",
        "outputId": "e48b6047-0c19-485b-bd1f-73e01da971ba"
      },
      "outputs": [
        {
          "name": "stdout",
          "output_type": "stream",
          "text": [
            "<class 'pandas.core.frame.DataFrame'>\n",
            "RangeIndex: 62 entries, 0 to 61\n",
            "Data columns (total 3 columns):\n",
            " #   Column  Non-Null Count  Dtype         \n",
            "---  ------  --------------  -----         \n",
            " 0   date    62 non-null     datetime64[ns]\n",
            " 1   group   62 non-null     object        \n",
            " 2   visits  62 non-null     int64         \n",
            "dtypes: datetime64[ns](1), int64(1), object(1)\n",
            "memory usage: 1.6+ KB\n",
            "None\n"
          ]
        },
        {
          "data": {
            "text/html": [
              "<div>\n",
              "<style scoped>\n",
              "    .dataframe tbody tr th:only-of-type {\n",
              "        vertical-align: middle;\n",
              "    }\n",
              "\n",
              "    .dataframe tbody tr th {\n",
              "        vertical-align: top;\n",
              "    }\n",
              "\n",
              "    .dataframe thead th {\n",
              "        text-align: right;\n",
              "    }\n",
              "</style>\n",
              "<table border=\"1\" class=\"dataframe\">\n",
              "  <thead>\n",
              "    <tr style=\"text-align: right;\">\n",
              "      <th></th>\n",
              "      <th>date</th>\n",
              "      <th>group</th>\n",
              "      <th>visits</th>\n",
              "    </tr>\n",
              "  </thead>\n",
              "  <tbody>\n",
              "    <tr>\n",
              "      <th>0</th>\n",
              "      <td>2019-08-01</td>\n",
              "      <td>A</td>\n",
              "      <td>719</td>\n",
              "    </tr>\n",
              "    <tr>\n",
              "      <th>1</th>\n",
              "      <td>2019-08-02</td>\n",
              "      <td>A</td>\n",
              "      <td>619</td>\n",
              "    </tr>\n",
              "    <tr>\n",
              "      <th>2</th>\n",
              "      <td>2019-08-03</td>\n",
              "      <td>A</td>\n",
              "      <td>507</td>\n",
              "    </tr>\n",
              "    <tr>\n",
              "      <th>3</th>\n",
              "      <td>2019-08-04</td>\n",
              "      <td>A</td>\n",
              "      <td>717</td>\n",
              "    </tr>\n",
              "    <tr>\n",
              "      <th>4</th>\n",
              "      <td>2019-08-05</td>\n",
              "      <td>A</td>\n",
              "      <td>756</td>\n",
              "    </tr>\n",
              "  </tbody>\n",
              "</table>\n",
              "</div>"
            ],
            "text/plain": [
              "        date group  visits\n",
              "0 2019-08-01     A     719\n",
              "1 2019-08-02     A     619\n",
              "2 2019-08-03     A     507\n",
              "3 2019-08-04     A     717\n",
              "4 2019-08-05     A     756"
            ]
          },
          "metadata": {},
          "output_type": "display_data"
        }
      ],
      "source": [
        "visits['date'] = visits['date'].map( lambda x: dt.datetime.strptime( x, '%Y-%m-%d'))\n",
        "print(visits.info())\n",
        "display(visits.head())"
      ]
    },
    {
      "cell_type": "markdown",
      "metadata": {
        "id": "FGpp6frdBpZB"
      },
      "source": [
        "## PARTE 1. PRIORIZAR HIPÓTESIS."
      ]
    },
    {
      "cell_type": "markdown",
      "metadata": {
        "id": "OCWHo6q7BpZB"
      },
      "source": [
        "### FRAMEWORK ICE.\n",
        "\n",
        "Se aplica el framework ICE para priorizar hipótesis y se ordenarlas en orden descendente de prioridad.\n",
        "\n",
        "Recordemos que entre mayor sea el valore ICE indica que es más viable realizar esa prueba de hipótesis. Ya que el valor ICE se obtinen de la siguiente manera:\n",
        "\n",
        "                 ICE = (Impacto * Confinza) / Esfuerzo\n",
        "\n",
        "Se pretende que los dos numeradores sea altos en su escala y que el denominador sea pequeño en su escala."
      ]
    },
    {
      "cell_type": "code",
      "execution_count": null,
      "metadata": {
        "id": "Li8ydwXsBpZB"
      },
      "outputs": [],
      "source": [
        "hypotheses['ICE'] = (hypotheses['impact']*hypotheses['confidence'])/hypotheses['effort']\n",
        "ice_results = hypotheses[['hypothesis','ICE']].sort_values(by='ICE',ascending= False)"
      ]
    },
    {
      "cell_type": "markdown",
      "metadata": {
        "id": "PRt-FBEBBpZB"
      },
      "source": [
        "### FRAMEWORK RICE"
      ]
    },
    {
      "cell_type": "markdown",
      "metadata": {
        "id": "tdqFVyU4BpZB"
      },
      "source": [
        "Se aplica el framework RICE para priorizar hipótesis y se ordena en orden descendente de prioridad.\n",
        "\n",
        "Recordemos que entre mayor sea el valore ICE indica que es más viable realizar esa prueba de hipótesis. Ya que el valor RICE se obtiene de manera similar a ICE pero se agrega el alcance (reach):\n",
        "\n",
        "                 ICE = (Reach * Impact * Confidence) / Effort\n",
        "\n",
        "Se pretende que los tres numeradores sea altos en su escala y que el denominador sea pequeño en su escala."
      ]
    },
    {
      "cell_type": "code",
      "execution_count": null,
      "metadata": {
        "id": "6F741bhEBpZB"
      },
      "outputs": [],
      "source": [
        "hypotheses['RICE'] = (hypotheses['reach'] * hypotheses['impact']*hypotheses['confidence'])/hypotheses['effort']\n",
        "rice_results = hypotheses[['hypothesis','RICE']].sort_values(by='RICE',ascending= False)\n"
      ]
    },
    {
      "cell_type": "markdown",
      "metadata": {
        "jp-MarkdownHeadingCollapsed": true,
        "id": "4KwLN9XyBpZB"
      },
      "source": [
        "### ICE VS RICE"
      ]
    },
    {
      "cell_type": "markdown",
      "metadata": {
        "id": "VYZ8_Hn-BpZC"
      },
      "source": [
        "Se observa un cambio de priorización cuando se utiliza el fremwork Rice a cuando se utiliza el framework ICE. Esto se debe a que con el framwork RICE se añade una variable más, la valoración del alcance (reach). Esta variable es independiente a cada una de las demás variables en cada una de las valoraciones de las hipótesis, por lo que una hipotesis que tenía un valor más pequeno en de impacto y confiaza puede tener un alto valor de alcance y viceversa.\n",
        "\n",
        "Con este ejemplo podemos observar que la hipótesis 7 que teníamos en tercer lugar con ICE, considerando el alcance, se vuelve nuestra priorida. Le puede llegar a más usuarios un formato de suscripción a traves de las páginas principales que, como se formula en la hipotesis 8 (prioridad con ICE), lanzar una promoción de descuentos; probablemente los descuentos por cada usuario a que se llegue tenga un mayor costo que el formato de suscripción."
      ]
    },
    {
      "cell_type": "code",
      "execution_count": null,
      "metadata": {
        "scrolled": true,
        "id": "UT6m-l1OBpZC",
        "outputId": "99f0332d-b812-450c-da0f-aab4f7cba684"
      },
      "outputs": [
        {
          "name": "stdout",
          "output_type": "stream",
          "text": [
            "                                          hypothesis        ICE\n",
            "8  Launch a promotion that gives users discounts ...  16.200000\n",
            "0  Add two new channels for attracting traffic. T...  13.333333\n",
            "7  Add a subscription form to all the main pages....  11.200000\n",
            "6  Show banners with current offers and sales on ...   8.000000\n",
            "2  Add product recommendation blocks to the store...   7.000000\n",
            "1  Launch your own delivery service. This will sh...   2.000000\n",
            "5  Add a customer review page. This will increase...   1.333333\n",
            "3  Change the category structure. This will incre...   1.125000\n",
            "4  Change the background color on the main page. ...   1.000000\n",
            "                                          hypothesis   RICE\n",
            "7  Add a subscription form to all the main pages....  112.0\n",
            "2  Add product recommendation blocks to the store...   56.0\n",
            "0  Add two new channels for attracting traffic. T...   40.0\n",
            "6  Show banners with current offers and sales on ...   40.0\n",
            "8  Launch a promotion that gives users discounts ...   16.2\n",
            "3  Change the category structure. This will incre...    9.0\n",
            "1  Launch your own delivery service. This will sh...    4.0\n",
            "5  Add a customer review page. This will increase...    4.0\n",
            "4  Change the background color on the main page. ...    3.0\n"
          ]
        }
      ],
      "source": [
        "print(ice_results)\n",
        "print(rice_results)"
      ]
    },
    {
      "cell_type": "markdown",
      "metadata": {
        "id": "NzkGBXyTBpZC"
      },
      "source": [
        "## PARTE 2. ANÁLISIS DE TEST A/B"
      ]
    },
    {
      "cell_type": "markdown",
      "metadata": {
        "id": "unn2f0LkBpZC"
      },
      "source": [
        "### PROCESAMIENTO DE DATOS. Cada visitante solo en un grupo A/B.\n",
        "\n",
        "Asegúrate de preprocesar los datos. Es posible que haya errores en los datasets originales; por ejemplo, algunos de los visitantes podrían haber entrado tanto en el grupo A como en el grupo B.\n",
        "\n",
        "Para revisar si hay algun visitante que se encuentre tanto en grupo A como en grupo B, se realizó el siguiente procedimiento:\n",
        "1. Se crea la lista de los visitantes en el grupo A y la lista de los visitantes del grupo B, mediante un filtrado de dataset 'orders'.\n",
        "2. Mediante el método 'merge inner' sobre las columnas del identificador del visitante de los respectivos grupos, se obtienen aquellos visitantes que se encuentran en ambos grupos.\n",
        "3. Mediante un filtrado del del data frame orderr origingal, mantenemos aquellos visitantes que no se encuentran en la lista de identificadores del dataframe obtenido en el paso 2.\n",
        "\n",
        "En es este caso obtuvimos un dataframe de 183 visitantes repetidos en grupo A y B. Por lo que 'orders' queda con 1016 registros"
      ]
    },
    {
      "cell_type": "code",
      "execution_count": null,
      "metadata": {
        "id": "bt64INeOBpZG",
        "outputId": "dec719f1-7ba1-41b2-d777-d9ce6ddd77cd"
      },
      "outputs": [
        {
          "name": "stdout",
          "output_type": "stream",
          "text": [
            "<class 'pandas.core.frame.DataFrame'>\n",
            "Int64Index: 183 entries, 0 to 182\n",
            "Data columns (total 9 columns):\n",
            " #   Column            Non-Null Count  Dtype         \n",
            "---  ------            --------------  -----         \n",
            " 0   transaction_id_a  183 non-null    string        \n",
            " 1   visitor_id        183 non-null    string        \n",
            " 2   date_a            183 non-null    datetime64[ns]\n",
            " 3   revenue_a         183 non-null    float64       \n",
            " 4   group_a           183 non-null    object        \n",
            " 5   transaction_id_b  183 non-null    string        \n",
            " 6   date_b            183 non-null    datetime64[ns]\n",
            " 7   revenue_b         183 non-null    float64       \n",
            " 8   group_b           183 non-null    object        \n",
            "dtypes: datetime64[ns](2), float64(2), object(2), string(3)\n",
            "memory usage: 14.3+ KB\n",
            "None\n",
            "<class 'pandas.core.frame.DataFrame'>\n",
            "Int64Index: 1016 entries, 0 to 1196\n",
            "Data columns (total 5 columns):\n",
            " #   Column          Non-Null Count  Dtype         \n",
            "---  ------          --------------  -----         \n",
            " 0   transaction_id  1016 non-null   string        \n",
            " 1   visitor_id      1016 non-null   string        \n",
            " 2   date            1016 non-null   datetime64[ns]\n",
            " 3   revenue         1016 non-null   float64       \n",
            " 4   group           1016 non-null   object        \n",
            "dtypes: datetime64[ns](1), float64(1), object(1), string(2)\n",
            "memory usage: 47.6+ KB\n",
            "None\n"
          ]
        }
      ],
      "source": [
        "visitorsA = orders[orders['group']=='A']\n",
        "visitorsB = orders[orders['group']=='B']\n",
        "#print(visitorsA.info()) # 557 registros\n",
        "#print(visitorsB.info()) # 640 registros\n",
        "\n",
        "#Inner merge con las columnas de visitor_id, de los grupos visitorsA y visitorsB\n",
        "visitors_both_groups =  visitorsA.merge(visitorsB, how='inner', on='visitor_id',suffixes=('_a', '_b'))\n",
        "print(visitors_both_groups.info())\n",
        "#display(visitors_both_groups.head())\n",
        "\n",
        "#Filtramos dataframes originales (orders y visitors)\n",
        "orders = orders[~orders['visitor_id'].isin(visitors_both_groups['visitor_id'])]\n",
        "print(orders.info())\n",
        "#display(orders.head())\n"
      ]
    },
    {
      "cell_type": "markdown",
      "metadata": {
        "id": "v2HgJ5YtBpZH"
      },
      "source": [
        "### MÉTRICAS ACUMULADAS"
      ]
    },
    {
      "cell_type": "markdown",
      "metadata": {
        "id": "BYBTTN14BpZH"
      },
      "source": [
        "Para evitar el \"peeking problem\", los analistas examinan gráficos de métricas acumuladas.\n",
        "\n",
        "El \"problema de mirar\" (peeking problem) se refiere a la práctica de analizar los resultados de una prueba antes de que se haya completado la duración predeterminada o haya alcanzado un nivel de significancia estadística. Esto puede llevar a conclusiones prematuras y sesgadas.\n",
        "\n",
        "La métricas acumuladas se refieren a que en el punto del primer día tendrás los valores de las métricas para ese día, en el punto del segundo día tendrás la suma de las métricas de los dos primeros días y así en adelante"
      ]
    },
    {
      "cell_type": "markdown",
      "metadata": {
        "id": "ql7GEeaABpZH"
      },
      "source": [
        "Se crea un dataframe con los datos acumulados:\n",
        "* date : fecha\n",
        "* group:  A o B\n",
        "* orders : cantidad de pedidos únicos hasta esa fecha por ese grupo\n",
        "* buyers : cantidad de visitantes únicos hasta esa fecha por ese grupo\n",
        "* revenue: suma de tamaño promedio de compra para ese grupo y hasta fecha\n",
        "* visitors : suma de visitantes totales hasta esa fecha por ese grupo\n"
      ]
    },
    {
      "cell_type": "code",
      "execution_count": null,
      "metadata": {
        "id": "iY1tHWQXBpZI",
        "outputId": "3ff46728-ade3-40d4-f9bb-319cfb3f43a9"
      },
      "outputs": [
        {
          "data": {
            "text/html": [
              "<div>\n",
              "<style scoped>\n",
              "    .dataframe tbody tr th:only-of-type {\n",
              "        vertical-align: middle;\n",
              "    }\n",
              "\n",
              "    .dataframe tbody tr th {\n",
              "        vertical-align: top;\n",
              "    }\n",
              "\n",
              "    .dataframe thead th {\n",
              "        text-align: right;\n",
              "    }\n",
              "</style>\n",
              "<table border=\"1\" class=\"dataframe\">\n",
              "  <thead>\n",
              "    <tr style=\"text-align: right;\">\n",
              "      <th></th>\n",
              "      <th>date</th>\n",
              "      <th>group</th>\n",
              "      <th>orders</th>\n",
              "      <th>buyers</th>\n",
              "      <th>revenue</th>\n",
              "      <th>visitors</th>\n",
              "    </tr>\n",
              "  </thead>\n",
              "  <tbody>\n",
              "    <tr>\n",
              "      <th>0</th>\n",
              "      <td>2019-08-01</td>\n",
              "      <td>A</td>\n",
              "      <td>23</td>\n",
              "      <td>19</td>\n",
              "      <td>2266.6</td>\n",
              "      <td>719</td>\n",
              "    </tr>\n",
              "    <tr>\n",
              "      <th>1</th>\n",
              "      <td>2019-08-01</td>\n",
              "      <td>B</td>\n",
              "      <td>17</td>\n",
              "      <td>17</td>\n",
              "      <td>967.2</td>\n",
              "      <td>713</td>\n",
              "    </tr>\n",
              "    <tr>\n",
              "      <th>2</th>\n",
              "      <td>2019-08-02</td>\n",
              "      <td>A</td>\n",
              "      <td>42</td>\n",
              "      <td>36</td>\n",
              "      <td>3734.9</td>\n",
              "      <td>1338</td>\n",
              "    </tr>\n",
              "    <tr>\n",
              "      <th>3</th>\n",
              "      <td>2019-08-02</td>\n",
              "      <td>B</td>\n",
              "      <td>40</td>\n",
              "      <td>39</td>\n",
              "      <td>3535.3</td>\n",
              "      <td>1294</td>\n",
              "    </tr>\n",
              "    <tr>\n",
              "      <th>4</th>\n",
              "      <td>2019-08-03</td>\n",
              "      <td>A</td>\n",
              "      <td>66</td>\n",
              "      <td>60</td>\n",
              "      <td>5550.1</td>\n",
              "      <td>1845</td>\n",
              "    </tr>\n",
              "  </tbody>\n",
              "</table>\n",
              "</div>"
            ],
            "text/plain": [
              "        date group  orders  buyers  revenue  visitors\n",
              "0 2019-08-01     A      23      19   2266.6       719\n",
              "1 2019-08-01     B      17      17    967.2       713\n",
              "2 2019-08-02     A      42      36   3734.9      1338\n",
              "3 2019-08-02     B      40      39   3535.3      1294\n",
              "4 2019-08-03     A      66      60   5550.1      1845"
            ]
          },
          "metadata": {},
          "output_type": "display_data"
        }
      ],
      "source": [
        "\n",
        "\n",
        "#  Matriz de valores únicos por pareja fecha-grupo\n",
        "datesGroups = orders[['date','group']].drop_duplicates()\n",
        "\n",
        "# Filtro: fecha es menor o igual que la fecha del elemento datesGroups\n",
        "# Como haber calculado los resultados de nuestra prueba todos los días hasta la fecha actual\n",
        "ordersAggregated = datesGroups.apply(lambda x: orders[np.logical_and(orders['date'] <= x['date'], orders['group'] == x['group'])]\n",
        "    .agg({'date' : 'max', 'group' : 'max', 'transaction_id' : pd.Series.nunique, 'visitor_id' : pd.Series.nunique, 'revenue' : 'sum'}), axis=1).sort_values(by=['date','group'])\n",
        "\n",
        "# Mismo con df visits\n",
        "visitorsAggregated = datesGroups.apply(lambda x: visits[np.logical_and(visits['date'] <= x['date'], visits['group'] == x['group'])]\n",
        "    .agg({'date' : 'max', 'group' : 'max', 'visits' : 'sum'}), axis=1).sort_values(by=['date','group'])\n",
        "\n",
        "# Fusiona las dos tablas en una y da a sus columnas nombres descriptivos\n",
        "cumulativeData = ordersAggregated.merge(visitorsAggregated, left_on=['date', 'group'], right_on=['date', 'group'])\n",
        "cumulativeData.columns = ['date', 'group', 'orders', 'buyers', 'revenue', 'visitors']\n",
        "\n",
        "display(cumulativeData.head())"
      ]
    },
    {
      "cell_type": "markdown",
      "metadata": {
        "id": "UQ7MmB6IBpZI"
      },
      "source": [
        "#### 1. INGRESO ACUMULADO POR GRUPO"
      ]
    },
    {
      "cell_type": "markdown",
      "metadata": {
        "id": "xpjRTZcEBpZI"
      },
      "source": [
        "Podemos observar que la ganacia en ingresos acumulados para el grupo B con respecto al grupo A, va en aumento. Esto indica que la prueba sí generó un cambio significativo en las compras de los usuarios."
      ]
    },
    {
      "cell_type": "code",
      "execution_count": null,
      "metadata": {
        "id": "QNUh62LyBpZI",
        "outputId": "40cb60ad-09a5-493d-f232-ab05fbaeafc8"
      },
      "outputs": [
        {
          "data": {
            "text/plain": [
              "<matplotlib.legend.Legend at 0x7f5897995430>"
            ]
          },
          "execution_count": 12,
          "metadata": {},
          "output_type": "execute_result"
        },
        {
          "data": {
            "image/png": "[encoded data removed]",
            "text/plain": [
              "<Figure size 640x480 with 1 Axes>"
            ]
          },
          "metadata": {},
          "output_type": "display_data"
        }
      ],
      "source": [
        "# DataFrame con pedidos acumulados e ingresos acumulados por día, grupo A y grupo B\n",
        "cumulativeRevenueA = cumulativeData[cumulativeData['group']=='A'][['date','revenue', 'orders']]\n",
        "cumulativeRevenueB = cumulativeData[cumulativeData['group']=='B'][['date','revenue', 'orders']]\n",
        "# Trazar el gráfico de ingresos del grupo A y grupo B\n",
        "plt.plot(cumulativeRevenueA['date'], cumulativeRevenueA['revenue'], label='A')\n",
        "plt.plot(cumulativeRevenueB['date'], cumulativeRevenueB['revenue'], label='B')\n",
        "plt.xticks(rotation=90)\n",
        "plt.legend()"
      ]
    },
    {
      "cell_type": "markdown",
      "metadata": {
        "id": "d7PHYK9JBpZJ"
      },
      "source": [
        "#### 2. TAMAÑO DE PEDIDO PROMEDIO ACUMULADO"
      ]
    },
    {
      "cell_type": "markdown",
      "metadata": {
        "id": "PjpEJWmrBpZJ"
      },
      "source": [
        "El tamaño promedio de pedido acumulado  esta dado por:\n",
        "\n",
        "    tamaño_promedio_acumulado = ingresos_acumulados / cantidad_de_pedidos_acumulados\n",
        "\n",
        "\n",
        "En este caso, se observa inestable al inicio; sin embargo desde el inicio, y conforme se va estabilizando,  se observa una ganacia significativa del grupo B con respecto al grupo A. Para determinar si parar o seguir con la prueba, hay que tomar en cuenta que después del pico máximo de tamaño promedio de pedido en el grupo B tiene una inclinación negativa.\n"
      ]
    },
    {
      "cell_type": "code",
      "execution_count": null,
      "metadata": {
        "id": "5sPiETfmBpZJ",
        "outputId": "189f2758-3ff8-46fd-b665-225fbfb60e33"
      },
      "outputs": [
        {
          "data": {
            "text/plain": [
              "<matplotlib.legend.Legend at 0x7f5897cf4f70>"
            ]
          },
          "execution_count": 13,
          "metadata": {},
          "output_type": "execute_result"
        },
        {
          "data": {
            "image/png": "[encoded data removed]",
            "text/plain": [
              "<Figure size 640x480 with 1 Axes>"
            ]
          },
          "metadata": {},
          "output_type": "display_data"
        }
      ],
      "source": [
        "plt.plot(cumulativeRevenueA['date'], cumulativeRevenueA['revenue']/cumulativeRevenueA['orders'], label='A')\n",
        "plt.plot(cumulativeRevenueB['date'], cumulativeRevenueB['revenue']/cumulativeRevenueB['orders'], label='B')\n",
        "plt.xticks(rotation=90)\n",
        "plt.legend()"
      ]
    },
    {
      "cell_type": "markdown",
      "metadata": {
        "id": "8sh2nQ00BpZK"
      },
      "source": [
        "#### 3.  DIFERENCIA RELATIVA EN EL TAMAÑO DE PEDIDO PROMEDIO ACUMULADO"
      ]
    },
    {
      "cell_type": "markdown",
      "metadata": {
        "id": "cgzVMcaEBpZK"
      },
      "source": [
        "Diferencia relativa = (metrica_acumulada_grupo_B / metrica_acumulada_grupo_A)  -1)\n",
        "\n",
        "Para estos gráficos los puntos que son mayores a 0 representa una ganacia en el grupo B sobre la métrica, mientras que los valores menores a 0 una pérdida.\n",
        "\n",
        "En este caso vemos que el cambio que se realizo en la prueba a generado cambio significativos positivos, llegando a tener tamaño promedio de venta de hasta 0.5 mayor. Sin embargo se recomendaría continuar con la prueba, hasta obervar la estabilización, ya que la tendencia va en decaimiento."
      ]
    },
    {
      "cell_type": "code",
      "execution_count": null,
      "metadata": {
        "id": "YS_Pdy2OBpZK",
        "outputId": "e20f6237-80b7-439e-a598-8387b0531aac"
      },
      "outputs": [
        {
          "data": {
            "text/plain": [
              "<matplotlib.lines.Line2D at 0x7f58979d4a90>"
            ]
          },
          "execution_count": 14,
          "metadata": {},
          "output_type": "execute_result"
        },
        {
          "data": {
            "image/png": "[encoded data removed]",
            "text/plain": [
              "<Figure size 640x480 with 1 Axes>"
            ]
          },
          "metadata": {},
          "output_type": "display_data"
        }
      ],
      "source": [
        "#Reunir los datos acumulados de grupo A y  grupo B en un solo DataFrame\n",
        "mergedCumulativeRevenue = cumulativeRevenueA.merge(cumulativeRevenueB, left_on='date', right_on='date', how='left', suffixes=['A', 'B'])\n",
        "\n",
        "# Graficar diferencia relativa para los tamaños de compra promedio\n",
        "plt.plot(mergedCumulativeRevenue['date'], (mergedCumulativeRevenue['revenueB']/mergedCumulativeRevenue['ordersB'])/(mergedCumulativeRevenue['revenueA']/mergedCumulativeRevenue['ordersA'])-1)\n",
        "plt.xticks(rotation=90)\n",
        "# Agrega el eje X en 0\n",
        "plt.axhline(y=0, color='black', linestyle='--')"
      ]
    },
    {
      "cell_type": "markdown",
      "metadata": {
        "id": "CO1mRkY8BpZL"
      },
      "source": [
        "#### 4. TASA DE CONVERSIÓN DE CADA GRUPO"
      ]
    },
    {
      "cell_type": "markdown",
      "metadata": {
        "id": "qO71MnOnBpZL"
      },
      "source": [
        "La tasa de conversión  = # de pedidos diarios / # de visitas diarias\n",
        "\n",
        "Esta métrica nos muestra la relación entre la cantidad de visitas que tenemos y el número de vistas, esntre mayor sea  indica que hay mas cantidad de compras por visitas. Observamos que en este caso el grupo B presenta continuamente mayor tasa de conversión."
      ]
    },
    {
      "cell_type": "code",
      "execution_count": null,
      "metadata": {
        "id": "eYpJv6dBBpZL",
        "outputId": "57c6272d-4d8a-45db-933d-78d5ce722754"
      },
      "outputs": [
        {
          "data": {
            "text/plain": [
              "<matplotlib.legend.Legend at 0x7f5897521640>"
            ]
          },
          "execution_count": 15,
          "metadata": {},
          "output_type": "execute_result"
        },
        {
          "data": {
            "image/png": "[encoded data removed]",
            "text/plain": [
              "<Figure size 640x480 with 1 Axes>"
            ]
          },
          "metadata": {},
          "output_type": "display_data"
        }
      ],
      "source": [
        "# Cálculo de conversión acumulada\n",
        "cumulativeData['conversion'] = cumulativeData['orders']/cumulativeData['visitors']\n",
        "# Datos en el grupo A\n",
        "cumulativeDataA = cumulativeData[cumulativeData['group']=='A']\n",
        "# Datos en el grupo B\n",
        "cumulativeDataB = cumulativeData[cumulativeData['group']=='B']\n",
        "# Trazar los gráficos\n",
        "plt.plot(cumulativeDataA['date'], cumulativeDataA['conversion'], label='A')\n",
        "plt.plot(cumulativeDataB['date'], cumulativeDataB['conversion'], label='B')\n",
        "plt.axis([pd.to_datetime(\"2019-08-01\"), pd.to_datetime('2019-09-01'), 0, 0.05]) # Configuración del eje x\n",
        "plt.xticks(rotation=90)\n",
        "plt.legend()\n"
      ]
    },
    {
      "cell_type": "markdown",
      "metadata": {
        "id": "61YKSqYuBpZM"
      },
      "source": [
        "### VALORES ATÍPICOS"
      ]
    },
    {
      "cell_type": "markdown",
      "metadata": {
        "id": "jubVgKA0BpZM"
      },
      "source": [
        "#### 5.NÚMERO DE PEDIDOS POR USUARIO"
      ]
    },
    {
      "cell_type": "markdown",
      "metadata": {
        "id": "0q0A9LmsBpZM"
      },
      "source": [
        "En este gráfico de dsipersión el eje 'y' representa la cantidad de pedidos del usurio y el eje x es la cantidad de usuarios. Por lo que podemos ver solo alrededor de 25 usuarios de los, aproximadamente, 1000 de los que se tiene registro, han realizado más de 1 pedido, siendo en su mayoría de estos 2 compras; los usuario que más compras han realizado, ha hecho 3 pedidos."
      ]
    },
    {
      "cell_type": "code",
      "execution_count": null,
      "metadata": {
        "id": "IE8UKbBTBpZN",
        "outputId": "45393a3a-a6d4-4e40-84a9-ef653ca0d877"
      },
      "outputs": [
        {
          "data": {
            "text/plain": [
              "<matplotlib.collections.PathCollection at 0x7f58974543a0>"
            ]
          },
          "execution_count": 16,
          "metadata": {},
          "output_type": "execute_result"
        },
        {
          "data": {
            "image/png": "[encoded data removed]",
            "text/plain": [
              "<Figure size 640x480 with 1 Axes>"
            ]
          },
          "metadata": {},
          "output_type": "display_data"
        }
      ],
      "source": [
        "# Encontrar el número de pedidos por usuario\n",
        "\n",
        "ordersByUsers = orders.drop(['group', 'revenue', 'date'], axis=1).groupby('visitor_id', as_index=False).agg({'transaction_id' : pd.Series.nunique})\n",
        "ordersByUsers.columns =['userId','orders']\n",
        "ordersByUsers= ordersByUsers.sort_values(by='orders',ascending=False)\n",
        "#print(ordersByUsers.head(10))\n",
        "\n",
        "x_values = pd.Series(range(0,len(ordersByUsers)))\n",
        "plt.scatter(x_values,ordersByUsers['orders'])"
      ]
    },
    {
      "cell_type": "markdown",
      "metadata": {
        "id": "cRwv-8tkBpZN"
      },
      "source": [
        "#### 6. PERCENTILES PEDIDOS POR USUARIO"
      ]
    },
    {
      "cell_type": "markdown",
      "metadata": {
        "id": "JOsUlJmcBpZO"
      },
      "source": [
        "Los percentiles dividen un conjunto ordenado en 100 partes, el percentil número n marca el valor mayor que n por ciento de los valores en la muestra.\n",
        "\n",
        "Por ejemplo, en este caso tenemos un percentil 95 de 2. Lo que quiere decir que solo el 5% de los 1197 usuarios han realizado más de dos compras. También obtuvimos un percentil 99 de 4, es decir que solo el 1% de los usuarios han realizado más de 4 compras."
      ]
    },
    {
      "cell_type": "code",
      "execution_count": null,
      "metadata": {
        "id": "kHwzqPUcBpZO",
        "outputId": "e991ddb7-5c88-46dc-e460-9a1e5bffe97b"
      },
      "outputs": [
        {
          "name": "stdout",
          "output_type": "stream",
          "text": [
            "[1. 2.]\n"
          ]
        }
      ],
      "source": [
        "print(np.percentile(ordersByUsers['orders'], [95, 99]))"
      ]
    },
    {
      "cell_type": "markdown",
      "metadata": {
        "id": "L_2CekxoBpZO"
      },
      "source": [
        "#### 7. DISPERSIÓN DE LOS PRECIOS DE LOS PEDIDOS"
      ]
    },
    {
      "cell_type": "markdown",
      "metadata": {
        "id": "T4AECDEfBpZO"
      },
      "source": [
        "De acuerdo al gráfico de dispersión observamos que la mayor parte de los pedidos tienen una valor menor a 2500 (unidad de moneda), solo 2 de los pedidos tienen un valor mayor ( 20,000 y 3000 aproximadamente)."
      ]
    },
    {
      "cell_type": "code",
      "execution_count": null,
      "metadata": {
        "id": "2MiaHDr3BpZO",
        "outputId": "d0c8da17-0d82-4573-95a7-148b77917096"
      },
      "outputs": [
        {
          "data": {
            "text/plain": [
              "<matplotlib.collections.PathCollection at 0x7f58971816d0>"
            ]
          },
          "execution_count": 18,
          "metadata": {},
          "output_type": "execute_result"
        },
        {
          "data": {
            "image/png": "[encoded data removed]",
            "text/plain": [
              "<Figure size 640x480 with 1 Axes>"
            ]
          },
          "metadata": {},
          "output_type": "display_data"
        }
      ],
      "source": [
        "x_values = pd.Series(range(0,len(orders['revenue'])))\n",
        "plt.scatter(x_values,orders['revenue'])"
      ]
    },
    {
      "cell_type": "markdown",
      "metadata": {
        "id": "Y2MFW-YmBpZP"
      },
      "source": [
        "#### 8. PERCENTILES DE LOS PRECIOS"
      ]
    },
    {
      "cell_type": "markdown",
      "metadata": {
        "id": "-rbHvYkCBpZP"
      },
      "source": [
        "Obtenemos que solo el 5% de los pedidos tiene un valor mayor a 414.275 y solo el 1% de los pedidos tiene unvalor mayor a 830.3"
      ]
    },
    {
      "cell_type": "code",
      "execution_count": null,
      "metadata": {
        "id": "YLNXLCNbBpZP",
        "outputId": "87d4fc10-d219-47bf-9f4c-27389dd9ddcd"
      },
      "outputs": [
        {
          "name": "stdout",
          "output_type": "stream",
          "text": [
            "[414.275 830.3  ]\n"
          ]
        }
      ],
      "source": [
        "print(np.percentile(orders['revenue'], [95, 99]))"
      ]
    },
    {
      "cell_type": "markdown",
      "metadata": {
        "id": "XNqorNulBpZQ"
      },
      "source": [
        "### SIGNIFICACIA ESTADÍSTICA"
      ]
    },
    {
      "cell_type": "markdown",
      "metadata": {
        "id": "NCAq880YBpZQ"
      },
      "source": [
        "#### DATOS EN BRUTO (CON VALORES ATÍPICOS)"
      ]
    },
    {
      "cell_type": "code",
      "execution_count": null,
      "metadata": {
        "id": "mAY9hl9DBpZQ"
      },
      "outputs": [],
      "source": [
        "#CREACIÓN DE MUESTRAS\n",
        "\n",
        "#Crearemos las variables ordersByUsersA y ordersByUsersB para almacenar cant de compras por usuario de cada grupo ['visitor_id', 'orders'].\n",
        "ordersByUsersA = orders[orders['group']=='A'].groupby('visitor_id', as_index=False).agg({'transaction_id' : pd.Series.nunique})\n",
        "ordersByUsersA.columns = ['visitor_id', 'orders']\n",
        "ordersByUsersB = orders[orders['group']=='B'].groupby('visitor_id', as_index=False).agg({'transaction_id' : pd.Series.nunique})\n",
        "ordersByUsersB.columns = ['visitor_id', 'orders']\n",
        "\n",
        "#Preparar las muestras para la prueba de Mann-Whitney:  sampleA y sampleB.\n",
        "# sample (de largo de visits)= concatena #odenes por usuario y los 0 usuarios que no pidieron nada.\n",
        "sampleA = pd.concat([ordersByUsersA['orders'],pd.Series(0, index=np.arange(visits[visits['group']=='A']['visits'].sum() - len(ordersByUsersA['orders'])), name='orders')],axis=0)\n",
        "sampleB = pd.concat([ordersByUsersB['orders'],pd.Series(0, index=np.arange(visits[visits['group']=='B']['visits'].sum() - len(ordersByUsersB['orders'])), name='orders')],axis=0)\n"
      ]
    },
    {
      "cell_type": "markdown",
      "metadata": {
        "id": "hfLUsRvwBpZQ"
      },
      "source": [
        "##### 9. S.E. DE LA DIFERENCIA EN LA CONVERSIÓN DE LOS GRUPOS"
      ]
    },
    {
      "cell_type": "markdown",
      "metadata": {
        "id": "4YlGuMYXBpZR"
      },
      "source": [
        "Aplicando el método de Mann-Whitney,un método de prueba de hipótesis entre dos poblaciones con valores atípicos, se obtuvo una siginificancia menor a 0.05 (valor de alpha) lo que nos indica que si hay diferencia significativa de conversión para los grupos A y B; con una ganacia de 0.138 de ganacia para el grupo B."
      ]
    },
    {
      "cell_type": "code",
      "execution_count": null,
      "metadata": {
        "id": "IE3j6W2hBpZR",
        "outputId": "3355409e-f791-4c00-a740-52c0d11cd59c"
      },
      "outputs": [
        {
          "name": "stdout",
          "output_type": "stream",
          "text": [
            "0.011\n",
            "0.160\n"
          ]
        }
      ],
      "source": [
        "\n",
        "# Método de mannwhitney\n",
        "print(\"{0:.3f}\".format(stats.mannwhitneyu(sampleA, sampleB)[1])) #valor p\n",
        "\n",
        "#Ganancia relativa de conversión para el grupo B.\n",
        "#Tasa de conversión = suma de pedidos / cantidad de usuarios = mean(sample)\n",
        "print(\"{0:.3f}\".format(sampleB.mean()/sampleA.mean()-1))\n"
      ]
    },
    {
      "cell_type": "markdown",
      "metadata": {
        "id": "gdkoyfF-BpZR"
      },
      "source": [
        "##### 10. S.F. DE LA DIFERENCIA EN EL TAMAÑO PROMEDIO DE PEDIDO"
      ]
    },
    {
      "cell_type": "markdown",
      "metadata": {
        "id": "Uj9eZqQyBpZR"
      },
      "source": [
        "Se obtuvo una siginificancia mayor a 0.05 (valor de alpha) lo que nos indica que no se puede rechazar la hipotesis nula ( No hay cambios entre los grupos); sin embargo observamos una  ganacia relativa de 0.252 para el grupo B con respecto al tamaño promedio de pedido del grupo A."
      ]
    },
    {
      "cell_type": "code",
      "execution_count": null,
      "metadata": {
        "id": "xRWUk53fBpZS",
        "outputId": "7231be70-1df2-4303-87ca-1d4506e190f8"
      },
      "outputs": [
        {
          "name": "stdout",
          "output_type": "stream",
          "text": [
            "0.862\n",
            "0.278\n"
          ]
        }
      ],
      "source": [
        "\n",
        "#Método de mannwhitney\n",
        "print('{0:.3f}'.format(stats.mannwhitneyu(orders[orders['group']=='A']['revenue'], orders[orders['group']=='B']['revenue'])[1]))\n",
        "#Ganancia relativa de conversión para el grupo B\n",
        "print('{0:.3f}'.format(orders[orders['group']=='B']['revenue'].mean()/orders[orders['group']=='A']['revenue'].mean()-1))"
      ]
    },
    {
      "cell_type": "markdown",
      "metadata": {
        "id": "HvwenZsTBpZS"
      },
      "source": [
        "#### DATOS FILTRADOS (SIN VALORES ATÍPICOS)"
      ]
    },
    {
      "cell_type": "code",
      "execution_count": null,
      "metadata": {
        "id": "crIh_jkdBpZS",
        "outputId": "474a8267-b330-45d9-e6f7-6599cafe9f33"
      },
      "outputs": [
        {
          "data": {
            "text/plain": [
              "1103    1164614297\n",
              "137     1211585711\n",
              "1136    1307669133\n",
              "421     1357170471\n",
              "549     1367935136\n",
              "Name: visitor_id, dtype: object"
            ]
          },
          "metadata": {},
          "output_type": "display_data"
        },
        {
          "name": "stdout",
          "output_type": "stream",
          "text": [
            "(55,)\n"
          ]
        }
      ],
      "source": [
        "#CREACIÓN DE MUESTRAS FILTRADAS\n",
        "\n",
        "# Encontrar los usuarios anómalos con el método shape() -  percentiles 95 de ingreso y de cantidad de orders\n",
        "usersWithManyOrders = pd.concat([ordersByUsersA[ordersByUsersA['orders'] > 2]['visitor_id'], ordersByUsersB[ordersByUsersB['orders'] > 2]['visitor_id']], axis = 0)\n",
        "usersWithExpensiveOrders = orders[orders['revenue'] > 435.54]['visitor_id']\n",
        "abnormalUsers = pd.concat([usersWithManyOrders, usersWithExpensiveOrders], axis = 0).drop_duplicates().sort_values()\n",
        "display(abnormalUsers.head(5))\n",
        "print(abnormalUsers.shape)\n",
        "\n",
        "#Prepararemos muestras del número de pedidos por usuario para cada grupo de prueba:\n",
        "sampleAFiltered = pd.concat([ordersByUsersA[np.logical_not(ordersByUsersA['visitor_id'].isin(abnormalUsers))]['orders'],pd.Series(0, index=np.arange(visits[visits['group']=='A']['visits'].sum() - len(ordersByUsersA['orders'])),name='orders')],axis=0)\n",
        "sampleBFiltered = pd.concat([ordersByUsersB[np.logical_not(ordersByUsersB['visitor_id'].isin(abnormalUsers))]['orders'],pd.Series(0, index=np.arange(visits[visits['group']=='B']['visits'].sum() - len(ordersByUsersB['orders'])),name='orders')],axis=0)\n"
      ]
    },
    {
      "cell_type": "markdown",
      "metadata": {
        "id": "TLYDiVHJBpZT"
      },
      "source": [
        "##### 11. S.E. DE LA DIFERENCIA EN LA CONVERSIÓN DE LOS GRUPOS"
      ]
    },
    {
      "cell_type": "markdown",
      "metadata": {
        "id": "sgWMh89zBpZT"
      },
      "source": [
        "Obtenemos una difnificacia estadística menor a alpha (0.05) y una ganancia relativa de 0.173 para el grupo B en cuanto a la conversión de los usuarios."
      ]
    },
    {
      "cell_type": "code",
      "execution_count": null,
      "metadata": {
        "id": "9OEsSlIjBpZT",
        "outputId": "3bdea818-bcc7-4a99-8738-8ab86e1d88dd"
      },
      "outputs": [
        {
          "name": "stdout",
          "output_type": "stream",
          "text": [
            "0.009\n",
            "0.189\n"
          ]
        }
      ],
      "source": [
        "# Método de Mann Whitney\n",
        "print(\"{0:.3f}\".format(stats.mannwhitneyu(sampleAFiltered, sampleBFiltered)[1]))\n",
        "# Ganancia relativa grupo B\n",
        "print(\"{0:.3f}\".format(sampleBFiltered.mean()/sampleAFiltered.mean()-1))"
      ]
    },
    {
      "cell_type": "markdown",
      "metadata": {
        "id": "th0jYqgcBpZT"
      },
      "source": [
        "##### 12. S.F. DE LA DIFERENCIA EN EL TAMAÑO PROMEDIO DE PEDIDO"
      ]
    },
    {
      "cell_type": "markdown",
      "metadata": {
        "id": "3_0lMMrzBpZT"
      },
      "source": [
        "Se obtiene una significaia estadística de 0.788, mayor a alfa(0.05), por lo que no se rechaza la hipótesis nula (El tamaño promedio de pedido se mantiene entre los grupos). Y una ganacia relativa negativa, es decir que en general el tamaño promedio de pedido es mayor en el grupo A."
      ]
    },
    {
      "cell_type": "code",
      "execution_count": null,
      "metadata": {
        "id": "4u-KLXwyBpZU",
        "outputId": "7b4746dd-27a8-4f37-938c-6513daf552ea"
      },
      "outputs": [
        {
          "name": "stdout",
          "output_type": "stream",
          "text": [
            "0.798\n",
            "-0.022\n"
          ]
        }
      ],
      "source": [
        "\n",
        "# Prueba U de Mann-Whitney\n",
        "print(\"{0:.3f}\".format(stats.mannwhitneyu(\n",
        "    orders[np.logical_and( orders['group']=='A',  # Selecciona datos en el grupo A\n",
        "        np.logical_not(orders['visitor_id'].isin(abnormalUsers)) # Excluye los usuarios anormales\n",
        "                         )]['revenue'],   # Tamano de compra para los usuarios grupo A que no son anomales\n",
        "    orders[np.logical_and(\n",
        "        orders['group']=='B',  # Selecciona datos en el grupo B\n",
        "        np.logical_not(orders['visitor_id'].isin(abnormalUsers)) # Excluye los usuarios anormales\n",
        "    )]['revenue']  # Tamano de compra para los usuarios grupo B que no son anomales\n",
        ")[1])) # Selecciona el valor p del resultado.\n",
        "\n",
        "# Diferencia relativa en el ingreso medio entre los grupos B y A\n",
        "print(\"{0:.3f}\".format(\n",
        "    orders[np.logical_and(orders['group']=='B',\n",
        "           np.logical_not(orders['visitor_id'].isin(abnormalUsers)))]['revenue'].mean() /  # Calcula el ingreso medio para el grupo B sin usuarios anormales\n",
        "    orders[np.logical_and(orders['group']=='A',\n",
        "           np.logical_not(orders['visitor_id'].isin(abnormalUsers)))]['revenue'].mean() - 1)) # Calcula el ingreso medio para el grupo B sin usuarios anormales"
      ]
    },
    {
      "cell_type": "markdown",
      "metadata": {
        "id": "vW0Ey3EDBpZU"
      },
      "source": [
        "### 13. TOMA DE DESICIÓN"
      ]
    },
    {
      "cell_type": "markdown",
      "metadata": {
        "id": "w0XDU7YaBpZU"
      },
      "source": [
        " Las decisiones posibles basada en los resultados de la prueba son:\n",
        " 1. Parar la prueba, considerar a uno de los grupos como líder.\n",
        " 2. Parar la prueba, concluir que no hay diferencia entre los grupos.\n",
        " 3. Continuar la prueba."
      ]
    },
    {
      "cell_type": "markdown",
      "metadata": {
        "id": "1ifl4ZIVBpZU"
      },
      "source": [
        "Tomando en cuenta todas las observaciones en el reporte, se toma la decisión:\n",
        "\n",
        "1. Parar la prueba, se considera el grupo B como líder.\n",
        "   \n",
        "A lo largo de los análisis se observa que aunque no hay grandes diferencia en el tamaño promedio de compra entre los grupos, sí hay una clara diferencia en la tasa de conversión siendo mayor la del grupo B; lo cual también incrementa las ganancias que tienen la empresa.\n",
        "\n",
        "Podemos revisar estos resultados redirigiendo nuestra atención tanto en el punto 1) Gráfica de ingreso acumulado por grupo, 4) Gráfica de tasa de conversión acumulada por grupo, 9) y 11) Pruebas de Mann Withney para la tasas de conversión tanto con los datos filtrados como brutos."
      ]
    }
  ],
  "metadata": {
    "kernelspec": {
      "display_name": "ambiente_general",
      "language": "python",
      "name": "python3"
    },
    "language_info": {
      "codemirror_mode": {
        "name": "ipython",
        "version": 3
      },
      "file_extension": ".py",
      "mimetype": "text/x-python",
      "name": "python",
      "nbconvert_exporter": "python",
      "pygments_lexer": "ipython3",
      "version": "3.13.3"
    },
    "colab": {
      "provenance": [],
      "include_colab_link": true
    }
  },
  "nbformat": 4,
  "nbformat_minor": 0
}